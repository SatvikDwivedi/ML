{
 "cells": [
  {
   "cell_type": "code",
   "execution_count": 1,
   "metadata": {},
   "outputs": [],
   "source": [
    "import pandas as pd\n",
    "import numpy as np\n",
    "import matplotlib.pyplot as plt\n"
   ]
  },
  {
   "cell_type": "code",
   "execution_count": 2,
   "metadata": {},
   "outputs": [],
   "source": [
    "dataset = pd.read_excel('C:/Users/trid8/Downloads/Life_Expectancy.xlsx')\n",
    "X = dataset.iloc[:, 3:5].values\n",
    "y = dataset.iloc[:, 2:4].values"
   ]
  },
  {
   "cell_type": "code",
   "execution_count": 3,
   "metadata": {},
   "outputs": [
    {
     "data": {
      "text/html": [
       "<div>\n",
       "<style scoped>\n",
       "    .dataframe tbody tr th:only-of-type {\n",
       "        vertical-align: middle;\n",
       "    }\n",
       "\n",
       "    .dataframe tbody tr th {\n",
       "        vertical-align: top;\n",
       "    }\n",
       "\n",
       "    .dataframe thead th {\n",
       "        text-align: right;\n",
       "    }\n",
       "</style>\n",
       "<table border=\"1\" class=\"dataframe\">\n",
       "  <thead>\n",
       "    <tr style=\"text-align: right;\">\n",
       "      <th></th>\n",
       "      <th>Country</th>\n",
       "      <th>Status</th>\n",
       "      <th>Adult_Mortality</th>\n",
       "      <th>Infant_Deaths</th>\n",
       "      <th>Hepatitis</th>\n",
       "      <th>Measles</th>\n",
       "      <th>BMI</th>\n",
       "      <th>Underfive_Deaths</th>\n",
       "      <th>Polio</th>\n",
       "      <th>Diphtheria</th>\n",
       "      <th>HIV</th>\n",
       "      <th>GDP</th>\n",
       "      <th>Population</th>\n",
       "      <th>Malnourished10_19</th>\n",
       "      <th>Malnourished5_9</th>\n",
       "      <th>Income_Index</th>\n",
       "      <th>Schooling</th>\n",
       "      <th>Expected</th>\n",
       "    </tr>\n",
       "  </thead>\n",
       "  <tbody>\n",
       "    <tr>\n",
       "      <td>0</td>\n",
       "      <td>Afghanistan</td>\n",
       "      <td>Developing</td>\n",
       "      <td>263</td>\n",
       "      <td>62</td>\n",
       "      <td>65</td>\n",
       "      <td>1154</td>\n",
       "      <td>19.1</td>\n",
       "      <td>83</td>\n",
       "      <td>6</td>\n",
       "      <td>65</td>\n",
       "      <td>0.1</td>\n",
       "      <td>584.259210</td>\n",
       "      <td>33736494</td>\n",
       "      <td>17.2</td>\n",
       "      <td>17.3</td>\n",
       "      <td>0.479</td>\n",
       "      <td>10.1</td>\n",
       "      <td>65.0</td>\n",
       "    </tr>\n",
       "    <tr>\n",
       "      <td>1</td>\n",
       "      <td>Albania</td>\n",
       "      <td>Developing</td>\n",
       "      <td>8</td>\n",
       "      <td>0</td>\n",
       "      <td>98</td>\n",
       "      <td>0</td>\n",
       "      <td>57.2</td>\n",
       "      <td>1</td>\n",
       "      <td>98</td>\n",
       "      <td>98</td>\n",
       "      <td>0.1</td>\n",
       "      <td>4575.763787</td>\n",
       "      <td>288914</td>\n",
       "      <td>1.2</td>\n",
       "      <td>1.3</td>\n",
       "      <td>0.761</td>\n",
       "      <td>14.2</td>\n",
       "      <td>77.5</td>\n",
       "    </tr>\n",
       "    <tr>\n",
       "      <td>2</td>\n",
       "      <td>Algeria</td>\n",
       "      <td>Developing</td>\n",
       "      <td>19</td>\n",
       "      <td>21</td>\n",
       "      <td>95</td>\n",
       "      <td>63</td>\n",
       "      <td>59.5</td>\n",
       "      <td>24</td>\n",
       "      <td>95</td>\n",
       "      <td>95</td>\n",
       "      <td>0.1</td>\n",
       "      <td>4132.762920</td>\n",
       "      <td>39871528</td>\n",
       "      <td>6.0</td>\n",
       "      <td>5.8</td>\n",
       "      <td>0.743</td>\n",
       "      <td>14.4</td>\n",
       "      <td>75.6</td>\n",
       "    </tr>\n",
       "    <tr>\n",
       "      <td>3</td>\n",
       "      <td>Angola</td>\n",
       "      <td>Developing</td>\n",
       "      <td>335</td>\n",
       "      <td>66</td>\n",
       "      <td>64</td>\n",
       "      <td>118</td>\n",
       "      <td>23.3</td>\n",
       "      <td>98</td>\n",
       "      <td>7</td>\n",
       "      <td>64</td>\n",
       "      <td>1.9</td>\n",
       "      <td>3695.793748</td>\n",
       "      <td>2785935</td>\n",
       "      <td>8.3</td>\n",
       "      <td>8.2</td>\n",
       "      <td>0.531</td>\n",
       "      <td>11.4</td>\n",
       "      <td>52.4</td>\n",
       "    </tr>\n",
       "    <tr>\n",
       "      <td>4</td>\n",
       "      <td>Argentina</td>\n",
       "      <td>Developing</td>\n",
       "      <td>116</td>\n",
       "      <td>8</td>\n",
       "      <td>94</td>\n",
       "      <td>0</td>\n",
       "      <td>62.8</td>\n",
       "      <td>9</td>\n",
       "      <td>93</td>\n",
       "      <td>94</td>\n",
       "      <td>0.1</td>\n",
       "      <td>13467.123600</td>\n",
       "      <td>43417765</td>\n",
       "      <td>1.0</td>\n",
       "      <td>0.9</td>\n",
       "      <td>0.826</td>\n",
       "      <td>17.3</td>\n",
       "      <td>76.3</td>\n",
       "    </tr>\n",
       "  </tbody>\n",
       "</table>\n",
       "</div>"
      ],
      "text/plain": [
       "       Country      Status  Adult_Mortality  Infant_Deaths  Hepatitis  \\\n",
       "0  Afghanistan  Developing              263             62         65   \n",
       "1      Albania  Developing                8              0         98   \n",
       "2      Algeria  Developing               19             21         95   \n",
       "3       Angola  Developing              335             66         64   \n",
       "4    Argentina  Developing              116              8         94   \n",
       "\n",
       "   Measles   BMI  Underfive_Deaths  Polio  Diphtheria  HIV           GDP  \\\n",
       "0     1154  19.1                83      6          65  0.1    584.259210   \n",
       "1        0  57.2                 1     98          98  0.1   4575.763787   \n",
       "2       63  59.5                24     95          95  0.1   4132.762920   \n",
       "3      118  23.3                98      7          64  1.9   3695.793748   \n",
       "4        0  62.8                 9     93          94  0.1  13467.123600   \n",
       "\n",
       "   Population  Malnourished10_19  Malnourished5_9  Income_Index  Schooling  \\\n",
       "0    33736494               17.2             17.3         0.479       10.1   \n",
       "1      288914                1.2              1.3         0.761       14.2   \n",
       "2    39871528                6.0              5.8         0.743       14.4   \n",
       "3     2785935                8.3              8.2         0.531       11.4   \n",
       "4    43417765                1.0              0.9         0.826       17.3   \n",
       "\n",
       "   Expected  \n",
       "0      65.0  \n",
       "1      77.5  \n",
       "2      75.6  \n",
       "3      52.4  \n",
       "4      76.3  "
      ]
     },
     "execution_count": 3,
     "metadata": {},
     "output_type": "execute_result"
    }
   ],
   "source": [
    "dataset.head()"
   ]
  },
  {
   "cell_type": "code",
   "execution_count": 4,
   "metadata": {},
   "outputs": [
    {
     "name": "stdout",
     "output_type": "stream",
     "text": [
      "[[ 62  65]\n",
      " [  0  98]\n",
      " [ 21  95]\n",
      " [ 66  64]\n",
      " [  8  94]\n",
      " [  1  94]\n",
      " [  1  93]\n",
      " [  0  93]\n",
      " [  5  96]\n",
      " [  0  98]\n",
      " [ 92  97]\n",
      " [  0  97]\n",
      " [  0  99]\n",
      " [  0  98]\n",
      " [  0  94]\n",
      " [ 25  82]\n",
      " [  0  99]\n",
      " [  0  82]\n",
      " [  2  95]\n",
      " [ 42  96]\n",
      " [  0  99]\n",
      " [  0  92]\n",
      " [ 10  89]\n",
      " [  2  55]\n",
      " [ 15  47]\n",
      " [ 46  46]\n",
      " [  2  97]\n",
      " [157  99]\n",
      " [ 10  91]\n",
      " [  1  91]\n",
      " [  1  92]\n",
      " [  0  94]\n",
      " [  1  99]\n",
      " [  0  97]\n",
      " [  0  66]\n",
      " [  6  78]\n",
      " [ 51  93]\n",
      " [  2  91]\n",
      " [  0  91]\n",
      " [136  77]\n",
      " [  0  99]\n",
      " [  0  90]\n",
      " [  2  86]\n",
      " [  1  94]\n",
      " [  2  88]\n",
      " [ 37  88]\n",
      " [  0  96]\n",
      " [ 10  74]\n",
      " [ 26  54]\n",
      " [ 14   6]\n",
      " [  0  17]\n",
      " [  0  84]\n",
      " [910  87]\n",
      " [114  78]\n",
      " [ 18  98]\n",
      " [ 32  56]\n",
      " [  0  95]\n",
      " [  0  96]\n",
      " [  1  93]\n",
      " [  1  91]\n",
      " [  2  72]\n",
      " [  4  98]\n",
      " [ 54  89]\n",
      " [  0  99]\n",
      " [  1  81]\n",
      " [  8  52]\n",
      " [  0  94]\n",
      " [ 28  69]\n",
      " [  4  99]\n",
      " [  0  99]\n",
      " [ 52  64]\n",
      " [  0  97]\n",
      " [ 30  82]\n",
      " [  1  99]\n",
      " [ 17  99]\n",
      " [ 39  89]\n",
      " [ 17  91]\n",
      " [  1  94]\n",
      " [  0  92]\n",
      " [  2  98]\n",
      " [ 49  67]\n",
      " [498  46]\n",
      " [  0  55]\n",
      " [  1  98]\n",
      " [  1   8]\n",
      " [  2  93]\n",
      " [  8   9]\n",
      " [ 52   6]\n",
      " [ 54  67]\n",
      " [  2  96]\n",
      " [  0  98]\n",
      " [  1  98]\n",
      " [  1  88]\n",
      " [ 13  97]\n",
      " [ 13  97]\n",
      " [ 14  97]\n",
      " [ 14  97]\n",
      " [ 14  97]\n",
      " [ 15  97]\n",
      " [ 15  98]\n",
      " [ 16  98]\n",
      " [ 16  98]\n",
      " [ 17  98]\n",
      " [ 18  97]\n",
      " [ 19  96]\n",
      " [ 20  94]\n",
      " [ 20  81]\n",
      " [ 21  43]\n",
      " [ 22  70]\n",
      " [ 11  98]\n",
      " [ 12  98]\n",
      " [ 12  98]\n",
      " [ 13  98]\n",
      " [ 14  97]\n",
      " [ 16  97]\n",
      " [ 17  97]\n",
      " [ 18  97]\n",
      " [ 20  97]\n",
      " [ 22  99]\n",
      " [ 24  95]\n",
      " [ 26  89]\n",
      " [ 29  96]\n",
      " [ 31  88]\n",
      " [ 33  85]]\n"
     ]
    }
   ],
   "source": [
    "X[:,]\n",
    "print(X)"
   ]
  },
  {
   "cell_type": "code",
   "execution_count": 5,
   "metadata": {},
   "outputs": [
    {
     "name": "stdout",
     "output_type": "stream",
     "text": [
      "[[263  62]\n",
      " [  8   0]\n",
      " [ 19  21]\n",
      " [335  66]\n",
      " [116   8]\n",
      " [118   1]\n",
      " [ 59   1]\n",
      " [ 65   0]\n",
      " [118   5]\n",
      " [ 69   0]\n",
      " [129  92]\n",
      " [ 98   0]\n",
      " [196   0]\n",
      " [ 74   0]\n",
      " [175   0]\n",
      " [249  25]\n",
      " [211   0]\n",
      " [ 88   0]\n",
      " [256   2]\n",
      " [142  42]\n",
      " [ 78   0]\n",
      " [137   0]\n",
      " [174  10]\n",
      " [ 64   2]\n",
      " [397  15]\n",
      " [356  46]\n",
      " [ 82   2]\n",
      " [ 85 157]\n",
      " [143  10]\n",
      " [227   1]\n",
      " [ 95   1]\n",
      " [ 95   0]\n",
      " [ 92   1]\n",
      " [ 52   0]\n",
      " [ 71   0]\n",
      " [118   6]\n",
      " [159  51]\n",
      " [178   2]\n",
      " [119   0]\n",
      " [225 136]\n",
      " [188   0]\n",
      " [ 76   0]\n",
      " [ 78   2]\n",
      " [129   1]\n",
      " [ 68   2]\n",
      " [249  37]\n",
      " [ 72   0]\n",
      " [186  10]\n",
      " [284  26]\n",
      " [ 24  14]\n",
      " [134   0]\n",
      " [ 49   0]\n",
      " [181 910]\n",
      " [176 114]\n",
      " [ 83  18]\n",
      " [182  32]\n",
      " [ 64   0]\n",
      " [ 58   0]\n",
      " [ 56   1]\n",
      " [125   1]\n",
      " [ 55   2]\n",
      " [198   4]\n",
      " [249  54]\n",
      " [ 81   0]\n",
      " [ 98   1]\n",
      " [259   8]\n",
      " [ 63   0]\n",
      " [ 22  28]\n",
      " [123   4]\n",
      " [ 61   0]\n",
      " [266  52]\n",
      " [146   0]\n",
      " [122  30]\n",
      " [222   1]\n",
      " [ 95  17]\n",
      " [199  39]\n",
      " [165  17]\n",
      " [ 57   1]\n",
      " [ 66   0]\n",
      " [145   2]\n",
      " [227  49]\n",
      " [367 498]\n",
      " [ 61   0]\n",
      " [ 12   1]\n",
      " [119   1]\n",
      " [146   2]\n",
      " [123   8]\n",
      " [211  52]\n",
      " [214  54]\n",
      " [117   2]\n",
      " [ 76   0]\n",
      " [ 64   1]\n",
      " [157   1]\n",
      " [222  13]\n",
      " [225  13]\n",
      " [229  14]\n",
      " [237  14]\n",
      " [242  14]\n",
      " [256  15]\n",
      " [261  15]\n",
      " [278  16]\n",
      " [282  16]\n",
      " [  3  17]\n",
      " [327  18]\n",
      " [321  19]\n",
      " [322  20]\n",
      " [313  20]\n",
      " [ 38  21]\n",
      " [ 37  22]\n",
      " [227  11]\n",
      " [ 23  12]\n",
      " [233  12]\n",
      " [239  13]\n",
      " [247  14]\n",
      " [ 26  16]\n",
      " [288  17]\n",
      " [282  18]\n",
      " [295  20]\n",
      " [328  22]\n",
      " [ 37  24]\n",
      " [397  26]\n",
      " [ 48  29]\n",
      " [415  31]\n",
      " [438  33]]\n"
     ]
    }
   ],
   "source": [
    "print(y[0:,])"
   ]
  },
  {
   "cell_type": "code",
   "execution_count": 6,
   "metadata": {},
   "outputs": [],
   "source": [
    "from sklearn.model_selection import train_test_split\n",
    "X_train, X_test, y_train, y_test = train_test_split(X, y, test_size = 0.2, random_state = 0)"
   ]
  },
  {
   "cell_type": "code",
   "execution_count": 7,
   "metadata": {},
   "outputs": [
    {
     "data": {
      "text/plain": [
       "LinearRegression(copy_X=True, fit_intercept=True, n_jobs=None, normalize=False)"
      ]
     },
     "execution_count": 7,
     "metadata": {},
     "output_type": "execute_result"
    }
   ],
   "source": [
    "from sklearn.linear_model import LinearRegression\n",
    "regressor = LinearRegression()\n",
    "regressor.fit(X_train, y_train)"
   ]
  },
  {
   "cell_type": "code",
   "execution_count": 8,
   "metadata": {},
   "outputs": [],
   "source": [
    "y_pred = regressor.predict(X_test)"
   ]
  },
  {
   "cell_type": "code",
   "execution_count": 10,
   "metadata": {},
   "outputs": [
    {
     "name": "stdout",
     "output_type": "stream",
     "text": [
      "Mean Squared Error of the model :  3783.669335046544\n"
     ]
    }
   ],
   "source": [
    "from sklearn.metrics import mean_squared_error\n",
    "mse = mean_squared_error(y_test,y_pred)\n",
    "print(\"Mean Squared Error of the model : \", mse)"
   ]
  },
  {
   "cell_type": "code",
   "execution_count": 11,
   "metadata": {},
   "outputs": [
    {
     "name": "stdout",
     "output_type": "stream",
     "text": [
      "Root Mean Squared Error of the model :  61.51153822695823\n"
     ]
    }
   ],
   "source": [
    "rmse = np.sqrt(mean_squared_error(y_test,y_pred))\n",
    "print(\"Root Mean Squared Error of the model : \", rmse)"
   ]
  },
  {
   "cell_type": "code",
   "execution_count": 12,
   "metadata": {},
   "outputs": [
    {
     "name": "stdout",
     "output_type": "stream",
     "text": [
      "Mean Absolute Error of the model :  37.33075296595144\n"
     ]
    }
   ],
   "source": [
    "from sklearn.metrics import mean_absolute_error\n",
    "mae = mean_absolute_error(y_test,y_pred)\n",
    "print(\"Mean Absolute Error of the model : \", mae)"
   ]
  },
  {
   "cell_type": "code",
   "execution_count": 13,
   "metadata": {},
   "outputs": [],
   "source": [
    "from sklearn import preprocessing"
   ]
  },
  {
   "cell_type": "code",
   "execution_count": 14,
   "metadata": {},
   "outputs": [],
   "source": [
    "x_array = np.array(dataset.iloc[:, 3].values)\n",
    "y_array = np.array(dataset.iloc[:, 2].values)"
   ]
  },
  {
   "cell_type": "code",
   "execution_count": 25,
   "metadata": {},
   "outputs": [
    {
     "name": "stdout",
     "output_type": "stream",
     "text": [
      "[[0.05684508 0.         0.01925398 0.0605125  0.00733485 0.00091686\n",
      "  0.00091686 0.         0.00458428 0.         0.08435076 0.\n",
      "  0.         0.         0.         0.0229214  0.         0.\n",
      "  0.00183371 0.03850795 0.         0.         0.00916856 0.00183371\n",
      "  0.01375284 0.04217538 0.00183371 0.1439464  0.00916856 0.00091686\n",
      "  0.00091686 0.         0.00091686 0.         0.         0.00550114\n",
      "  0.04675966 0.00183371 0.         0.12469243 0.         0.\n",
      "  0.00183371 0.00091686 0.00183371 0.03392367 0.         0.00916856\n",
      "  0.02383826 0.01283598 0.         0.         0.83433902 0.10452159\n",
      "  0.01650341 0.02933939 0.         0.         0.00091686 0.00091686\n",
      "  0.00183371 0.00366742 0.04951023 0.         0.00091686 0.00733485\n",
      "  0.         0.02567197 0.00366742 0.         0.04767652 0.\n",
      "  0.02750568 0.00091686 0.01558655 0.03575739 0.01558655 0.00091686\n",
      "  0.         0.00183371 0.04492595 0.45659432 0.         0.00091686\n",
      "  0.00091686 0.00183371 0.00733485 0.04767652 0.04951023 0.00183371\n",
      "  0.         0.00091686 0.00091686 0.01191913 0.01191913 0.01283598\n",
      "  0.01283598 0.01283598 0.01375284 0.01375284 0.0146697  0.0146697\n",
      "  0.01558655 0.01650341 0.01742027 0.01833712 0.01833712 0.01925398\n",
      "  0.02017083 0.01008542 0.01100227 0.01100227 0.01191913 0.01283598\n",
      "  0.0146697  0.01558655 0.01650341 0.01833712 0.02017083 0.02200455\n",
      "  0.02383826 0.02658883 0.02842254 0.03025625]]\n"
     ]
    }
   ],
   "source": [
    "normalized_arrx = preprocessing.normalize([x_array])\n",
    "print(normalized_arrx)"
   ]
  },
  {
   "cell_type": "code",
   "execution_count": 19,
   "metadata": {},
   "outputs": [
    {
     "name": "stdout",
     "output_type": "stream",
     "text": [
      "[[0.05684508 0.         0.01925398 0.0605125  0.00733485 0.00091686\n",
      "  0.00091686 0.         0.00458428 0.         0.08435076 0.\n",
      "  0.         0.         0.         0.0229214  0.         0.\n",
      "  0.00183371 0.03850795 0.         0.         0.00916856 0.00183371\n",
      "  0.01375284 0.04217538 0.00183371 0.1439464  0.00916856 0.00091686\n",
      "  0.00091686 0.         0.00091686 0.         0.         0.00550114\n",
      "  0.04675966 0.00183371 0.         0.12469243 0.         0.\n",
      "  0.00183371 0.00091686 0.00183371 0.03392367 0.         0.00916856\n",
      "  0.02383826 0.01283598 0.         0.         0.83433902 0.10452159\n",
      "  0.01650341 0.02933939 0.         0.         0.00091686 0.00091686\n",
      "  0.00183371 0.00366742 0.04951023 0.         0.00091686 0.00733485\n",
      "  0.         0.02567197 0.00366742 0.         0.04767652 0.\n",
      "  0.02750568 0.00091686 0.01558655 0.03575739 0.01558655 0.00091686\n",
      "  0.         0.00183371 0.04492595 0.45659432 0.         0.00091686\n",
      "  0.00091686 0.00183371 0.00733485 0.04767652 0.04951023 0.00183371\n",
      "  0.         0.00091686 0.00091686 0.01191913 0.01191913 0.01283598\n",
      "  0.01283598 0.01283598 0.01375284 0.01375284 0.0146697  0.0146697\n",
      "  0.01558655 0.01650341 0.01742027 0.01833712 0.01833712 0.01925398\n",
      "  0.02017083 0.01008542 0.01100227 0.01100227 0.01191913 0.01283598\n",
      "  0.0146697  0.01558655 0.01650341 0.01833712 0.02017083 0.02200455\n",
      "  0.02383826 0.02658883 0.02842254 0.03025625]]\n"
     ]
    }
   ],
   "source": [
    "normalized_arry = preprocessing.normalize([y_array])\n",
    "print(normalized_arr)"
   ]
  },
  {
   "cell_type": "code",
   "execution_count": 20,
   "metadata": {},
   "outputs": [],
   "source": [
    "from sklearn.model_selection import train_test_split\n",
    "normalized_arrx_train, normalized_arrx_test, normalized_arry_train, normalized_arry_test = train_test_split(X, y, test_size = .2, random_state = 0)"
   ]
  },
  {
   "cell_type": "code",
   "execution_count": 21,
   "metadata": {},
   "outputs": [
    {
     "data": {
      "text/plain": [
       "LinearRegression(copy_X=True, fit_intercept=True, n_jobs=None, normalize=False)"
      ]
     },
     "execution_count": 21,
     "metadata": {},
     "output_type": "execute_result"
    }
   ],
   "source": [
    "from sklearn.linear_model import LinearRegression\n",
    "regressor = LinearRegression()\n",
    "regressor.fit(normalized_arrx_train, normalized_arry_train)"
   ]
  },
  {
   "cell_type": "code",
   "execution_count": 22,
   "metadata": {},
   "outputs": [],
   "source": [
    "normalized_arry_pred = regressor.predict(X_test)"
   ]
  },
  {
   "cell_type": "code",
   "execution_count": 23,
   "metadata": {},
   "outputs": [
    {
     "name": "stdout",
     "output_type": "stream",
     "text": [
      "Mean Squared Error of the model :  3783.669335046544\n"
     ]
    }
   ],
   "source": [
    "from sklearn.metrics import mean_squared_error\n",
    "mse = mean_squared_error(normalized_arry_test,normalized_arry_pred)\n",
    "print(\"Mean Squared Error of the model : \", mse)"
   ]
  },
  {
   "cell_type": "code",
   "execution_count": 24,
   "metadata": {},
   "outputs": [
    {
     "name": "stdout",
     "output_type": "stream",
     "text": [
      "Root Mean Squared Error of the model :  61.51153822695823\n"
     ]
    }
   ],
   "source": [
    "rmse = np.sqrt(mean_squared_error(normalized_arry_test,normalized_arry_pred))\n",
    "print(\"Root Mean Squared Error of the model : \", rmse)"
   ]
  },
  {
   "cell_type": "code",
   "execution_count": 26,
   "metadata": {},
   "outputs": [
    {
     "name": "stdout",
     "output_type": "stream",
     "text": [
      "Mean Absolute Error of the model :  37.33075296595144\n"
     ]
    }
   ],
   "source": [
    "from sklearn.metrics import mean_absolute_error\n",
    "mae = mean_absolute_error(normalized_arry_test,normalized_arry_pred)\n",
    "print(\"Mean Absolute Error of the model : \", mae)"
   ]
  },
  {
   "cell_type": "code",
   "execution_count": null,
   "metadata": {},
   "outputs": [],
   "source": []
  }
 ],
 "metadata": {
  "kernelspec": {
   "display_name": "Python 3",
   "language": "python",
   "name": "python3"
  },
  "language_info": {
   "codemirror_mode": {
    "name": "ipython",
    "version": 3
   },
   "file_extension": ".py",
   "mimetype": "text/x-python",
   "name": "python",
   "nbconvert_exporter": "python",
   "pygments_lexer": "ipython3",
   "version": "3.7.4"
  }
 },
 "nbformat": 4,
 "nbformat_minor": 2
}
